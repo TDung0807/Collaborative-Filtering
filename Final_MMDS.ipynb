{
  "nbformat": 4,
  "nbformat_minor": 0,
  "metadata": {
    "colab": {
      "provenance": []
    },
    "kernelspec": {
      "name": "python3",
      "display_name": "Python 3"
    },
    "language_info": {
      "name": "python"
    }
  },
  "cells": [
    {
      "cell_type": "markdown",
      "source": [
        "# Setup pyspark"
      ],
      "metadata": {
        "id": "ex7OFaJm5XFS"
      }
    },
    {
      "cell_type": "code",
      "source": [
        "from google.colab import drive\n",
        "drive.mount('/content/drive')"
      ],
      "metadata": {
        "colab": {
          "base_uri": "https://localhost:8080/"
        },
        "id": "HK2ArI_85cT6",
        "outputId": "1d6d298c-3edc-4ec2-de6a-b517a1207609"
      },
      "execution_count": null,
      "outputs": [
        {
          "output_type": "stream",
          "name": "stdout",
          "text": [
            "Mounted at /content/drive\n"
          ]
        }
      ]
    },
    {
      "cell_type": "code",
      "source": [
        "!apt-get install openjdk-8-jdk-headless -qq > /dev/null\n",
        "#!wget -q http://archive.apache.org/dist/spark/spark-3.1.1/spark-3.1.1-bin-hadoop3.2.tgz\n",
        "!cp /content/drive/MyDrive/spark-3.1.1-bin-hadoop3.2.tgz .\n",
        "!tar xf spark-3.1.1-bin-hadoop3.2.tgz\n",
        "!pip install -q findspark"
      ],
      "metadata": {
        "id": "YQLKN2mg5Wa5"
      },
      "execution_count": null,
      "outputs": []
    },
    {
      "cell_type": "code",
      "source": [
        "import os\n",
        "os.environ[\"JAVA_HOME\"] = \"/usr/lib/jvm/java-8-openjdk-amd64\"\n",
        "os.environ[\"SPARK_HOME\"] = \"/content/spark-3.1.1-bin-hadoop3.2\""
      ],
      "metadata": {
        "id": "GKUanicY5fLt"
      },
      "execution_count": null,
      "outputs": []
    },
    {
      "cell_type": "code",
      "source": [
        "import findspark\n",
        "findspark.init()"
      ],
      "metadata": {
        "id": "XUXGciCV5a8C"
      },
      "execution_count": null,
      "outputs": []
    },
    {
      "cell_type": "code",
      "source": [
        "import pyspark as spark\n",
        "\n",
        "print(spark.__version__)"
      ],
      "metadata": {
        "colab": {
          "base_uri": "https://localhost:8080/"
        },
        "id": "0XLdZqlU5m-b",
        "outputId": "c702be2d-4804-48ed-cc5b-b8f0f5f86a75"
      },
      "execution_count": null,
      "outputs": [
        {
          "output_type": "stream",
          "name": "stdout",
          "text": [
            "3.1.1\n"
          ]
        }
      ]
    },
    {
      "cell_type": "markdown",
      "source": [
        "# Library"
      ],
      "metadata": {
        "id": "FVdUt1fD6PPm"
      }
    },
    {
      "cell_type": "code",
      "source": [
        "import pandas as pd\n",
        "import matplotlib.pyplot as plt\n",
        "import numpy as np\n",
        "from sklearn.model_selection import train_test_split\n",
        "from pyspark import SparkContext\n",
        "from pyspark.sql import SparkSession\n",
        "from pyspark.ml.recommendation import ALS\n",
        "from pyspark.ml.evaluation import RegressionEvaluator\n",
        "from pyspark.sql.functions import col, lag,to_date, array, when, collect_list\n",
        "from pyspark.sql.window import Window\n",
        "from pyspark.ml.regression import LinearRegression\n",
        "from pyspark.ml.feature import VectorAssembler\n",
        "\n",
        "import matplotlib.pyplot as plt\n",
        "\n",
        "import csv\n",
        "import os\n",
        "sc = SparkContext.getOrCreate()\n",
        "spark = SparkSession(sc)"
      ],
      "metadata": {
        "id": "zER0A4ZX6Jwc"
      },
      "execution_count": null,
      "outputs": []
    },
    {
      "cell_type": "markdown",
      "source": [
        "# Req 1: Khuyến nghị sản phẩm với Collaborative Filtering"
      ],
      "metadata": {
        "id": "YEPPKJej2kMC"
      }
    },
    {
      "cell_type": "markdown",
      "source": [
        "## Process"
      ],
      "metadata": {
        "id": "iX38t_36eRds"
      }
    },
    {
      "cell_type": "code",
      "source": [
        "# Initialize SparkSession\n",
        "spark = SparkSession.builder \\\n",
        "    .appName(\"Collaborative Filtering Recommendation System\") \\\n",
        "    .getOrCreate()\n",
        "\n",
        "# Load the dataset\n",
        "data = spark.read.csv(\"ratings2k.csv\", header=True, inferSchema=True)\n",
        "\n",
        "# Divide the dataset into training and test sets (70:30 ratio)\n",
        "(training, test) = data.randomSplit([0.7, 0.3], seed=123)\n",
        "# Initialize lists to store MSE values and number of similar users\n",
        "mse_values = []\n",
        "similar_users_values = list(range(10, 21))"
      ],
      "metadata": {
        "id": "tTyPND9d6gsl"
      },
      "execution_count": null,
      "outputs": []
    },
    {
      "cell_type": "code",
      "source": [
        "for num_similar_users in similar_users_values:\n",
        "    # Train ALS model\n",
        "    als = ALS(maxIter=5, regParam=0.01, userCol=\"user\", itemCol=\"item\", ratingCol=\"rating\",\n",
        "              coldStartStrategy=\"drop\", rank=10, numUserBlocks=10, numItemBlocks=10, implicitPrefs=False,\n",
        "              alpha=1.0, seed=None, checkpointInterval=10,\n",
        "              intermediateStorageLevel=\"MEMORY_AND_DISK\", finalStorageLevel=\"MEMORY_AND_DISK\",\n",
        "              nonnegative=False)\n",
        "    model = als.fit(training)\n",
        "\n",
        "    # Generate predictions\n",
        "    predictions = model.transform(test)\n",
        "\n",
        "    # Evaluate the model\n",
        "    evaluator = RegressionEvaluator(metricName=\"mse\", labelCol=\"rating\", predictionCol=\"prediction\")\n",
        "    mse = evaluator.evaluate(predictions)\n",
        "\n",
        "    # Store MSE value\n",
        "    mse_values.append(mse)"
      ],
      "metadata": {
        "colab": {
          "base_uri": "https://localhost:8080/"
        },
        "id": "pvR99shGzCpG",
        "outputId": "6e8d19db-fbd4-4aac-9a75-ab1c33517a47"
      },
      "execution_count": null,
      "outputs": [
        {
          "output_type": "stream",
          "name": "stderr",
          "text": [
            "Exception ignored in: <function JavaWrapper.__del__ at 0x7a36621fae60>\n",
            "Traceback (most recent call last):\n",
            "  File \"/content/spark-3.1.1-bin-hadoop3.2/python/pyspark/ml/wrapper.py\", line 39, in __del__\n",
            "    if SparkContext._active_spark_context and self._java_obj is not None:\n",
            "AttributeError: 'ALS' object has no attribute '_java_obj'\n",
            "Exception ignored in: <function JavaWrapper.__del__ at 0x7a36621fae60>\n",
            "Traceback (most recent call last):\n",
            "  File \"/content/spark-3.1.1-bin-hadoop3.2/python/pyspark/ml/wrapper.py\", line 39, in __del__\n",
            "    if SparkContext._active_spark_context and self._java_obj is not None:\n",
            "AttributeError: 'ALS' object has no attribute '_java_obj'\n",
            "Exception ignored in: <function JavaWrapper.__del__ at 0x7a36621fae60>\n",
            "Traceback (most recent call last):\n",
            "  File \"/content/spark-3.1.1-bin-hadoop3.2/python/pyspark/ml/wrapper.py\", line 39, in __del__\n",
            "    if SparkContext._active_spark_context and self._java_obj is not None:\n",
            "AttributeError: 'ALS' object has no attribute '_java_obj'\n"
          ]
        }
      ]
    },
    {
      "cell_type": "code",
      "source": [
        "mse_values"
      ],
      "metadata": {
        "colab": {
          "base_uri": "https://localhost:8080/"
        },
        "id": "Hvf-oQJ40M72",
        "outputId": "9b271c0f-19d0-4760-c217-b8a273984038"
      },
      "execution_count": null,
      "outputs": [
        {
          "output_type": "execute_result",
          "data": {
            "text/plain": [
              "[4.174544420497629,\n",
              " 4.174544420497629,\n",
              " 4.174544420497629,\n",
              " 4.174544420497629,\n",
              " 4.174544420497629,\n",
              " 4.174544420497629,\n",
              " 4.174544420497629,\n",
              " 4.174544420497629,\n",
              " 4.174544420497629,\n",
              " 4.174544420497629,\n",
              " 4.174544420497629]"
            ]
          },
          "metadata": {},
          "execution_count": 60
        }
      ]
    },
    {
      "cell_type": "code",
      "source": [
        "test.drop('rating')"
      ],
      "metadata": {
        "colab": {
          "base_uri": "https://localhost:8080/"
        },
        "id": "KRZUWaMViSIG",
        "outputId": "0798de4d-b3b6-41b7-fc03-799876d34855"
      },
      "execution_count": null,
      "outputs": [
        {
          "output_type": "execute_result",
          "data": {
            "text/plain": [
              "DataFrame[index: int, user: int, item: int]"
            ]
          },
          "metadata": {},
          "execution_count": 44
        }
      ]
    },
    {
      "cell_type": "code",
      "source": [
        "als = ALS(rank=10, seed=0)\n",
        "als.setMaxIter(5)\n",
        "als.getMaxIter()\n",
        "als.setRegParam(0.1)\n",
        "als.getRegParam()\n",
        "als.clear(als.regParam)\n",
        "model = als.fit(training)\n",
        "model.getBlockSize()"
      ],
      "metadata": {
        "colab": {
          "base_uri": "https://localhost:8080/"
        },
        "id": "VZrlwnZ2hV01",
        "outputId": "e57ab830-d0b8-4143-cb8b-cb241b00cdbc"
      },
      "execution_count": null,
      "outputs": [
        {
          "output_type": "execute_result",
          "data": {
            "text/plain": [
              "4096"
            ]
          },
          "metadata": {},
          "execution_count": 45
        }
      ]
    },
    {
      "cell_type": "code",
      "source": [
        "model.setPredictionCol(\"newPrediction\")\n",
        "model.userFactors.orderBy(\"id\").collect()"
      ],
      "metadata": {
        "id": "CR4hDQSxhya0"
      },
      "execution_count": null,
      "outputs": []
    },
    {
      "cell_type": "code",
      "source": [
        "predictions = sorted(model.transform(test).collect(), key=lambda r: r[0])\n",
        "evaluator = RegressionEvaluator(metricName=\"rmse\", labelCol=\"rating\",\n",
        "                                predictionCol=\"newPrediction\")"
      ],
      "metadata": {
        "id": "KVlvvyt8if4o"
      },
      "execution_count": null,
      "outputs": []
    },
    {
      "cell_type": "code",
      "source": [
        "rmse = evaluator.evaluate(predictions)\n",
        "print(\"Root-mean-square error = \" + str(rmse))"
      ],
      "metadata": {
        "id": "y8QJVF5XyKvJ"
      },
      "execution_count": null,
      "outputs": []
    },
    {
      "cell_type": "code",
      "source": [
        "predictions"
      ],
      "metadata": {
        "id": "s9DxzQGviizF"
      },
      "execution_count": null,
      "outputs": []
    },
    {
      "cell_type": "markdown",
      "source": [
        "# Req 2: Dự đoán giá chứng khoán."
      ],
      "metadata": {
        "id": "-DnM2pps2pYc"
      }
    },
    {
      "cell_type": "code",
      "source": [
        "class PredictHVN:\n",
        "    def __init__(self, path):\n",
        "        self.data = spark.read.option(\"header\", \"true\").csv(path)\n",
        "\n",
        "    def create_fluctuation(self):\n",
        "        self.data = self.data.withColumn(\"Ngay\", to_date(\"Ngay\", \"dd/MM/yyyy\")).orderBy(col(\"Ngay\"))\n",
        "        # Calculate the fluctuation\n",
        "        window_spec = Window.orderBy(col(\"Ngay\"))\n",
        "        self.data = self.data.withColumn(\"Fluctuation\", (col(\"HVN\") - lag(\"HVN\", 1).over(window_spec)) / lag(\"HVN\", 1).over(window_spec))\n",
        "        # Fill null values with 0 for the first row in Fluctuation column\n",
        "        self.data = self.data.withColumn(\"Fluctuation\", when(col(\"Fluctuation\").isNull(), 0).otherwise(col(\"Fluctuation\")))\n",
        "\n",
        "    def create_fluctuation_DF(self):\n",
        "        # Create a window specification for the last 5 days\n",
        "        vector_window_spec = Window.orderBy(col(\"Ngay\")).rowsBetween(-4, 0)\n",
        "        # Collect the fluctuation values of the past 5 days into an array\n",
        "        self.data = self.data.withColumn(\"VectorFluctuation\", collect_list(\"Fluctuation\").over(vector_window_spec))\n",
        "\n",
        "    def plot_mse_chart(self, train_mse, test_mse):\n",
        "        # Plotting MSE values\n",
        "        labels = ['Training', 'Test']\n",
        "        mse_values = [train_mse, test_mse]\n",
        "\n",
        "        x = np.arange(len(labels))\n",
        "        width = 0.35\n",
        "\n",
        "        fig, ax = plt.subplots()\n",
        "        rects = ax.bar(x, mse_values, width, label='MSE')\n",
        "\n",
        "        ax.set_ylabel('MSE')\n",
        "        ax.set_title('MSE on Training and Test Dataset')\n",
        "        ax.set_xticks(x)\n",
        "        ax.set_xticklabels(labels)\n",
        "        ax.legend()\n",
        "\n",
        "        def autolabel(rects):\n",
        "            for rect in rects:\n",
        "                height = rect.get_height()\n",
        "                ax.annotate('{}'.format(round(height, 2)),\n",
        "                            xy=(rect.get_x() + rect.get_width() / 2, height),\n",
        "                            xytext=(0, 3),\n",
        "                            textcoords=\"offset points\",\n",
        "                            ha='center', va='bottom')\n",
        "\n",
        "        autolabel(rects)\n",
        "\n",
        "        fig.tight_layout()\n",
        "\n",
        "        plt.show()\n",
        "\n",
        "    def predict(self):\n",
        "        # Convert 'HVN' column to float type\n",
        "        data = self.data.withColumn(\"HVN\", col(\"HVN\").cast(\"float\"))\n",
        "        # VectorAssembler to combine features into a single vector\n",
        "        assembler = VectorAssembler(inputCols=[\"HVN\"], outputCol=\"features\")\n",
        "        # Transform the data\n",
        "        data = assembler.transform(data)\n",
        "        # Select the features and the target variable\n",
        "        data = data.select(\"Ngay\", \"HVN\", \"Fluctuation\", \"features\")\n",
        "        # Split the data into training and testing sets (80% training, 20% testing)\n",
        "        train_data, test_data = data.randomSplit([0.8, 0.2], seed=123)\n",
        "        # Create a Linear Regression model\n",
        "        lr = LinearRegression(featuresCol=\"features\", labelCol=\"Fluctuation\")\n",
        "        # Train the model\n",
        "        lr_model = lr.fit(train_data)\n",
        "        # Make predictions on the training data\n",
        "        train_predictions = lr_model.transform(train_data)\n",
        "        # Calculate MSE on training data\n",
        "        train_mse = train_predictions.selectExpr(\"pow(Fluctuation - prediction, 2) as squared_error\").agg({\"squared_error\": \"avg\"}).collect()[0][0]\n",
        "        # Make predictions on the test data\n",
        "        test_predictions = lr_model.transform(test_data)\n",
        "        # Calculate MSE on test data\n",
        "        test_mse = test_predictions.selectExpr(\"pow(Fluctuation - prediction, 2) as squared_error\").agg({\"squared_error\": \"avg\"}).collect()[0][0]\n",
        "        self.plot_mse_chart(train_mse, test_mse)\n",
        "\n",
        "    def run(self):\n",
        "        self.create_fluctuation()\n",
        "        self.create_fluctuation_DF()\n",
        "        self.predict()"
      ],
      "metadata": {
        "id": "wQFRljBh-Oev"
      },
      "execution_count": null,
      "outputs": []
    },
    {
      "cell_type": "code",
      "source": [
        "path = \"/content/stockHVN2022.csv\"\n",
        "PredictHVN(path).run()"
      ],
      "metadata": {
        "colab": {
          "base_uri": "https://localhost:8080/",
          "height": 768
        },
        "id": "69X-21T8_2yc",
        "outputId": "997433e8-4500-456a-8d43-da2fff88f81c"
      },
      "execution_count": null,
      "outputs": [
        {
          "output_type": "error",
          "ename": "TypeError",
          "evalue": "Invalid argument, not a string or column: 0.000582851344851675 of type <class 'numpy.float64'>. For column literals, use 'lit', 'array', 'struct' or 'create_map' function.",
          "traceback": [
            "\u001b[0;31m---------------------------------------------------------------------------\u001b[0m",
            "\u001b[0;31mTypeError\u001b[0m                                 Traceback (most recent call last)",
            "\u001b[0;32m<ipython-input-137-eaea3c4d0917>\u001b[0m in \u001b[0;36m<cell line: 2>\u001b[0;34m()\u001b[0m\n\u001b[1;32m      1\u001b[0m \u001b[0mpath\u001b[0m \u001b[0;34m=\u001b[0m \u001b[0;34m\"/content/stockHVN2022.csv\"\u001b[0m\u001b[0;34m\u001b[0m\u001b[0;34m\u001b[0m\u001b[0m\n\u001b[0;32m----> 2\u001b[0;31m \u001b[0mPredictHVN\u001b[0m\u001b[0;34m(\u001b[0m\u001b[0mpath\u001b[0m\u001b[0;34m)\u001b[0m\u001b[0;34m.\u001b[0m\u001b[0mrun\u001b[0m\u001b[0;34m(\u001b[0m\u001b[0;34m)\u001b[0m\u001b[0;34m\u001b[0m\u001b[0;34m\u001b[0m\u001b[0m\n\u001b[0m",
            "\u001b[0;32m<ipython-input-136-37b511d1618e>\u001b[0m in \u001b[0;36mrun\u001b[0;34m(self)\u001b[0m\n\u001b[1;32m     78\u001b[0m         \u001b[0mself\u001b[0m\u001b[0;34m.\u001b[0m\u001b[0mcreate_fluctuation\u001b[0m\u001b[0;34m(\u001b[0m\u001b[0;34m)\u001b[0m\u001b[0;34m\u001b[0m\u001b[0;34m\u001b[0m\u001b[0m\n\u001b[1;32m     79\u001b[0m         \u001b[0mself\u001b[0m\u001b[0;34m.\u001b[0m\u001b[0mcreate_fluctuation_DF\u001b[0m\u001b[0;34m(\u001b[0m\u001b[0;34m)\u001b[0m\u001b[0;34m\u001b[0m\u001b[0;34m\u001b[0m\u001b[0m\n\u001b[0;32m---> 80\u001b[0;31m         \u001b[0mself\u001b[0m\u001b[0;34m.\u001b[0m\u001b[0mpredict\u001b[0m\u001b[0;34m(\u001b[0m\u001b[0;34m)\u001b[0m\u001b[0;34m\u001b[0m\u001b[0;34m\u001b[0m\u001b[0m\n\u001b[0m",
            "\u001b[0;32m<ipython-input-136-37b511d1618e>\u001b[0m in \u001b[0;36mpredict\u001b[0;34m(self)\u001b[0m\n\u001b[1;32m     73\u001b[0m         \u001b[0mtest_mse\u001b[0m \u001b[0;34m=\u001b[0m \u001b[0mtest_predictions\u001b[0m\u001b[0;34m.\u001b[0m\u001b[0mselectExpr\u001b[0m\u001b[0;34m(\u001b[0m\u001b[0;34m\"pow(Fluctuation - prediction, 2) as squared_error\"\u001b[0m\u001b[0;34m)\u001b[0m\u001b[0;34m.\u001b[0m\u001b[0magg\u001b[0m\u001b[0;34m(\u001b[0m\u001b[0;34m{\u001b[0m\u001b[0;34m\"squared_error\"\u001b[0m\u001b[0;34m:\u001b[0m \u001b[0;34m\"avg\"\u001b[0m\u001b[0;34m}\u001b[0m\u001b[0;34m)\u001b[0m\u001b[0;34m.\u001b[0m\u001b[0mcollect\u001b[0m\u001b[0;34m(\u001b[0m\u001b[0;34m)\u001b[0m\u001b[0;34m[\u001b[0m\u001b[0;36m0\u001b[0m\u001b[0;34m]\u001b[0m\u001b[0;34m[\u001b[0m\u001b[0;36m0\u001b[0m\u001b[0;34m]\u001b[0m\u001b[0;34m\u001b[0m\u001b[0;34m\u001b[0m\u001b[0m\n\u001b[1;32m     74\u001b[0m \u001b[0;34m\u001b[0m\u001b[0m\n\u001b[0;32m---> 75\u001b[0;31m         \u001b[0mself\u001b[0m\u001b[0;34m.\u001b[0m\u001b[0mplot_mse_chart\u001b[0m\u001b[0;34m(\u001b[0m\u001b[0mtrain_mse\u001b[0m\u001b[0;34m,\u001b[0m \u001b[0mtest_mse\u001b[0m\u001b[0;34m)\u001b[0m\u001b[0;34m\u001b[0m\u001b[0;34m\u001b[0m\u001b[0m\n\u001b[0m\u001b[1;32m     76\u001b[0m \u001b[0;34m\u001b[0m\u001b[0m\n\u001b[1;32m     77\u001b[0m     \u001b[0;32mdef\u001b[0m \u001b[0mrun\u001b[0m\u001b[0;34m(\u001b[0m\u001b[0mself\u001b[0m\u001b[0;34m)\u001b[0m\u001b[0;34m:\u001b[0m\u001b[0;34m\u001b[0m\u001b[0;34m\u001b[0m\u001b[0m\n",
            "\u001b[0;32m<ipython-input-136-37b511d1618e>\u001b[0m in \u001b[0;36mplot_mse_chart\u001b[0;34m(self, train_mse, test_mse)\u001b[0m\n\u001b[1;32m     43\u001b[0m                             ha='center', va='bottom')\n\u001b[1;32m     44\u001b[0m \u001b[0;34m\u001b[0m\u001b[0m\n\u001b[0;32m---> 45\u001b[0;31m         \u001b[0mautolabel\u001b[0m\u001b[0;34m(\u001b[0m\u001b[0mrects\u001b[0m\u001b[0;34m)\u001b[0m\u001b[0;34m\u001b[0m\u001b[0;34m\u001b[0m\u001b[0m\n\u001b[0m\u001b[1;32m     46\u001b[0m \u001b[0;34m\u001b[0m\u001b[0m\n\u001b[1;32m     47\u001b[0m         \u001b[0mfig\u001b[0m\u001b[0;34m.\u001b[0m\u001b[0mtight_layout\u001b[0m\u001b[0;34m(\u001b[0m\u001b[0;34m)\u001b[0m\u001b[0;34m\u001b[0m\u001b[0;34m\u001b[0m\u001b[0m\n",
            "\u001b[0;32m<ipython-input-136-37b511d1618e>\u001b[0m in \u001b[0;36mautolabel\u001b[0;34m(rects)\u001b[0m\n\u001b[1;32m     37\u001b[0m             \u001b[0;32mfor\u001b[0m \u001b[0mrect\u001b[0m \u001b[0;32min\u001b[0m \u001b[0mrects\u001b[0m\u001b[0;34m:\u001b[0m\u001b[0;34m\u001b[0m\u001b[0;34m\u001b[0m\u001b[0m\n\u001b[1;32m     38\u001b[0m                 \u001b[0mheight\u001b[0m \u001b[0;34m=\u001b[0m \u001b[0mrect\u001b[0m\u001b[0;34m.\u001b[0m\u001b[0mget_height\u001b[0m\u001b[0;34m(\u001b[0m\u001b[0;34m)\u001b[0m\u001b[0;34m\u001b[0m\u001b[0;34m\u001b[0m\u001b[0m\n\u001b[0;32m---> 39\u001b[0;31m                 ax.annotate('{}'.format(round(height, 2)),\n\u001b[0m\u001b[1;32m     40\u001b[0m                             \u001b[0mxy\u001b[0m\u001b[0;34m=\u001b[0m\u001b[0;34m(\u001b[0m\u001b[0mrect\u001b[0m\u001b[0;34m.\u001b[0m\u001b[0mget_x\u001b[0m\u001b[0;34m(\u001b[0m\u001b[0;34m)\u001b[0m \u001b[0;34m+\u001b[0m \u001b[0mrect\u001b[0m\u001b[0;34m.\u001b[0m\u001b[0mget_width\u001b[0m\u001b[0;34m(\u001b[0m\u001b[0;34m)\u001b[0m \u001b[0;34m/\u001b[0m \u001b[0;36m2\u001b[0m\u001b[0;34m,\u001b[0m \u001b[0mheight\u001b[0m\u001b[0;34m)\u001b[0m\u001b[0;34m,\u001b[0m\u001b[0;34m\u001b[0m\u001b[0;34m\u001b[0m\u001b[0m\n\u001b[1;32m     41\u001b[0m                             \u001b[0mxytext\u001b[0m\u001b[0;34m=\u001b[0m\u001b[0;34m(\u001b[0m\u001b[0;36m0\u001b[0m\u001b[0;34m,\u001b[0m \u001b[0;36m3\u001b[0m\u001b[0;34m)\u001b[0m\u001b[0;34m,\u001b[0m\u001b[0;34m\u001b[0m\u001b[0;34m\u001b[0m\u001b[0m\n",
            "\u001b[0;32m/content/spark-3.1.1-bin-hadoop3.2/python/pyspark/sql/functions.py\u001b[0m in \u001b[0;36mround\u001b[0;34m(col, scale)\u001b[0m\n\u001b[1;32m   1232\u001b[0m     \"\"\"\n\u001b[1;32m   1233\u001b[0m     \u001b[0msc\u001b[0m \u001b[0;34m=\u001b[0m \u001b[0mSparkContext\u001b[0m\u001b[0;34m.\u001b[0m\u001b[0m_active_spark_context\u001b[0m\u001b[0;34m\u001b[0m\u001b[0;34m\u001b[0m\u001b[0m\n\u001b[0;32m-> 1234\u001b[0;31m     \u001b[0;32mreturn\u001b[0m \u001b[0mColumn\u001b[0m\u001b[0;34m(\u001b[0m\u001b[0msc\u001b[0m\u001b[0;34m.\u001b[0m\u001b[0m_jvm\u001b[0m\u001b[0;34m.\u001b[0m\u001b[0mfunctions\u001b[0m\u001b[0;34m.\u001b[0m\u001b[0mround\u001b[0m\u001b[0;34m(\u001b[0m\u001b[0m_to_java_column\u001b[0m\u001b[0;34m(\u001b[0m\u001b[0mcol\u001b[0m\u001b[0;34m)\u001b[0m\u001b[0;34m,\u001b[0m \u001b[0mscale\u001b[0m\u001b[0;34m)\u001b[0m\u001b[0;34m)\u001b[0m\u001b[0;34m\u001b[0m\u001b[0;34m\u001b[0m\u001b[0m\n\u001b[0m\u001b[1;32m   1235\u001b[0m \u001b[0;34m\u001b[0m\u001b[0m\n\u001b[1;32m   1236\u001b[0m \u001b[0;34m\u001b[0m\u001b[0m\n",
            "\u001b[0;32m/content/spark-3.1.1-bin-hadoop3.2/python/pyspark/sql/column.py\u001b[0m in \u001b[0;36m_to_java_column\u001b[0;34m(col)\u001b[0m\n\u001b[1;32m     43\u001b[0m         \u001b[0mjcol\u001b[0m \u001b[0;34m=\u001b[0m \u001b[0m_create_column_from_name\u001b[0m\u001b[0;34m(\u001b[0m\u001b[0mcol\u001b[0m\u001b[0;34m)\u001b[0m\u001b[0;34m\u001b[0m\u001b[0;34m\u001b[0m\u001b[0m\n\u001b[1;32m     44\u001b[0m     \u001b[0;32melse\u001b[0m\u001b[0;34m:\u001b[0m\u001b[0;34m\u001b[0m\u001b[0;34m\u001b[0m\u001b[0m\n\u001b[0;32m---> 45\u001b[0;31m         raise TypeError(\n\u001b[0m\u001b[1;32m     46\u001b[0m             \u001b[0;34m\"Invalid argument, not a string or column: \"\u001b[0m\u001b[0;34m\u001b[0m\u001b[0;34m\u001b[0m\u001b[0m\n\u001b[1;32m     47\u001b[0m             \u001b[0;34m\"{0} of type {1}. \"\u001b[0m\u001b[0;34m\u001b[0m\u001b[0;34m\u001b[0m\u001b[0m\n",
            "\u001b[0;31mTypeError\u001b[0m: Invalid argument, not a string or column: 0.000582851344851675 of type <class 'numpy.float64'>. For column literals, use 'lit', 'array', 'struct' or 'create_map' function."
          ]
        },
        {
          "output_type": "display_data",
          "data": {
            "text/plain": [
              "<Figure size 640x480 with 1 Axes>"
            ],
            "image/png": "[encoded data removed]"
          },
          "metadata": {}
        }
      ]
    }
  ]
}