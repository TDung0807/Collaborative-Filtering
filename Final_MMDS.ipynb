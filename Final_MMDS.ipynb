{
  "nbformat": 4,
  "nbformat_minor": 0,
  "metadata": {
    "colab": {
      "provenance": [],
      "collapsed_sections": [
        "FVdUt1fD6PPm",
        "2pvwCUaKk3yV",
        "1c5OkfW8llKz",
        "Dyb-9qsVmMnv"
      ]
    },
    "kernelspec": {
      "name": "python3",
      "display_name": "Python 3"
    },
    "language_info": {
      "name": "python"
    }
  },
  "cells": [
    {
      "cell_type": "markdown",
      "source": [
        "# Setup pyspark"
      ],
      "metadata": {
        "id": "ex7OFaJm5XFS"
      }
    },
    {
      "cell_type": "code",
      "source": [
        "from google.colab import drive\n",
        "drive.mount('/content/drive')"
      ],
      "metadata": {
        "colab": {
          "base_uri": "https://localhost:8080/"
        },
        "id": "HK2ArI_85cT6",
        "outputId": "f24fd5a3-afab-41e9-a22d-695d7aa034ba"
      },
      "execution_count": null,
      "outputs": [
        {
          "output_type": "stream",
          "name": "stdout",
          "text": [
            "Mounted at /content/drive\n"
          ]
        }
      ]
    },
    {
      "cell_type": "code",
      "source": [
        "!apt-get install openjdk-8-jdk-headless -qq > /dev/null\n",
        "#!wget -q http://archive.apache.org/dist/spark/spark-3.1.1/spark-3.1.1-bin-hadoop3.2.tgz\n",
        "!cp /content/drive/MyDrive/spark-3.1.1-bin-hadoop3.2.tgz .\n",
        "!tar xf spark-3.1.1-bin-hadoop3.2.tgz\n",
        "!pip install -q findspark"
      ],
      "metadata": {
        "id": "YQLKN2mg5Wa5"
      },
      "execution_count": null,
      "outputs": []
    },
    {
      "cell_type": "code",
      "source": [
        "import os\n",
        "os.environ[\"JAVA_HOME\"] = \"/usr/lib/jvm/java-8-openjdk-amd64\"\n",
        "os.environ[\"SPARK_HOME\"] = \"/content/spark-3.1.1-bin-hadoop3.2\""
      ],
      "metadata": {
        "id": "GKUanicY5fLt"
      },
      "execution_count": null,
      "outputs": []
    },
    {
      "cell_type": "code",
      "source": [
        "import findspark\n",
        "findspark.init()"
      ],
      "metadata": {
        "id": "XUXGciCV5a8C"
      },
      "execution_count": null,
      "outputs": []
    },
    {
      "cell_type": "code",
      "source": [
        "import pyspark as spark\n",
        "\n",
        "print(spark.__version__)"
      ],
      "metadata": {
        "colab": {
          "base_uri": "https://localhost:8080/"
        },
        "id": "0XLdZqlU5m-b",
        "outputId": "b4db76be-8302-4688-9ccd-1173597eca1a"
      },
      "execution_count": null,
      "outputs": [
        {
          "output_type": "stream",
          "name": "stdout",
          "text": [
            "3.1.1\n"
          ]
        }
      ]
    },
    {
      "cell_type": "markdown",
      "source": [
        "# Library"
      ],
      "metadata": {
        "id": "FVdUt1fD6PPm"
      }
    },
    {
      "cell_type": "code",
      "source": [
        "import pandas as pd\n",
        "import matplotlib.pyplot as plt\n",
        "import numpy as np\n",
        "from sklearn.model_selection import train_test_split\n",
        "from pyspark import SparkContext\n",
        "from pyspark.sql import SparkSession\n",
        "from pyspark.ml.recommendation import ALS\n",
        "from pyspark.ml.evaluation import RegressionEvaluator\n",
        "from pyspark.sql.functions import col, lag, to_date, array, when, collect_list, size, udf\n",
        "from pyspark.sql.window import Window\n",
        "from pyspark.ml.regression import LinearRegression\n",
        "from pyspark.ml.feature import VectorAssembler\n",
        "from pyspark.ml.linalg import Vectors, VectorUDT\n",
        "import csv\n",
        "import os\n",
        "\n",
        "# Initialize SparkContext and SparkSession\n",
        "sc = SparkContext.getOrCreate()\n",
        "spark = SparkSession(sc)\n"
      ],
      "metadata": {
        "id": "zER0A4ZX6Jwc"
      },
      "execution_count": null,
      "outputs": []
    },
    {
      "cell_type": "markdown",
      "source": [
        "# Req 1: Khuyến nghị sản phẩm với Collaborative Filtering"
      ],
      "metadata": {
        "id": "YEPPKJej2kMC"
      }
    },
    {
      "cell_type": "markdown",
      "source": [
        "## Define class"
      ],
      "metadata": {
        "id": "iX38t_36eRds"
      }
    },
    {
      "cell_type": "code",
      "source": [
        "class CollaborativeFiltering:\n",
        "    def __init__(self, path):\n",
        "        spark = SparkSession.builder \\\n",
        "      .appName(\"Collaborative Filtering Recommendation System\") \\\n",
        "      .getOrCreate()\n",
        "        self.data = spark.read.csv(path, header=True, inferSchema=True)\n",
        "        # Split train, test dataset follow 7:3\n",
        "        (self.training, self.test) = self.data.randomSplit([0.7, 0.3], seed=123)\n",
        "\n",
        "    def mse_values(self):\n",
        "      mse_values = []\n",
        "      for i in range(10,21):\n",
        "        als = ALS(maxIter=10, regParam=0.1, userCol=\"user\", itemCol=\"item\", ratingCol=\"rating\",\n",
        "                  coldStartStrategy=\"drop\", rank=10, numUserBlocks=i, numItemBlocks=10, implicitPrefs=False,\n",
        "                  alpha=1.0, seed=None, checkpointInterval=10,\n",
        "                  intermediateStorageLevel=\"MEMORY_AND_DISK\", finalStorageLevel=\"MEMORY_AND_DISK\",\n",
        "                  nonnegative=False)\n",
        "\n",
        "        # Train the model\n",
        "        model = als.fit(self.training)\n",
        "\n",
        "        #predictions\n",
        "        predictions = model.transform(self.test)\n",
        "        # Evaluate the model\n",
        "        evaluator = RegressionEvaluator(metricName=\"mse\", labelCol=\"rating\", predictionCol=\"prediction\")\n",
        "        mse = evaluator.evaluate(predictions)\n",
        "        mse_values.append(mse)\n",
        "      return mse_values\n",
        "    def plot_mse_chart(self, mse_values):\n",
        "        plt.figure(figsize=(10, 5))\n",
        "        plt.bar(range(10, 21), mse_values, color='b')\n",
        "        plt.title('MSE by Number of User Blocks')\n",
        "        plt.xlabel('Number of User Blocks')\n",
        "        plt.ylabel('Mean Squared Error')\n",
        "        plt.grid(True)\n",
        "        plt.show()\n",
        "    def run(self):\n",
        "        mse_values = self.mse_values()\n",
        "        print(mse_values)\n",
        "        self.plot_mse_chart(mse_values)"
      ],
      "metadata": {
        "id": "mIC28vw1Uazw"
      },
      "execution_count": null,
      "outputs": []
    },
    {
      "cell_type": "code",
      "source": [
        "data_path=\"ratings2k.csv\"\n",
        "cf = CollaborativeFiltering(data_path).run()"
      ],
      "metadata": {
        "id": "C-7P6fS_z0at",
        "outputId": "d6f8480a-1f1b-4d43-d1db-87fd32e0214a",
        "colab": {
          "base_uri": "https://localhost:8080/",
          "height": 525
        }
      },
      "execution_count": null,
      "outputs": [
        {
          "output_type": "stream",
          "name": "stdout",
          "text": [
            "[1.165848124458871, 1.2207248844399676, 1.2017101036073736, 1.2409144254533861, 1.2140621323713583, 1.2299888246969504, 1.2434299254110788, 1.23049505085561, 1.2035639337585773, 1.259769096150575, 1.2145379566575745]\n"
          ]
        },
        {
          "output_type": "display_data",
          "data": {
            "text/plain": [
              "<Figure size 1000x500 with 1 Axes>"
            ],
            "image/png": "[encoded data removed]"
          },
          "metadata": {}
        }
      ]
    },
    {
      "cell_type": "markdown",
      "source": [
        "## Inference"
      ],
      "metadata": {
        "id": "2pvwCUaKk3yV"
      }
    },
    {
      "cell_type": "markdown",
      "source": [
        "### Khởi tạo"
      ],
      "metadata": {
        "id": "1c5OkfW8llKz"
      }
    },
    {
      "cell_type": "code",
      "source": [
        "data = spark.read.csv(\"ratings2k.csv\", header=True, inferSchema=True)\n",
        "training, test = data.randomSplit([0.7, 0.3], seed=123)"
      ],
      "metadata": {
        "id": "Xnk2o-1Pk9o_"
      },
      "execution_count": null,
      "outputs": []
    },
    {
      "cell_type": "code",
      "source": [
        "### Dữ liệu đầu vào\n",
        "data.show()"
      ],
      "metadata": {
        "colab": {
          "base_uri": "https://localhost:8080/"
        },
        "id": "L7GAet1rl26Y",
        "outputId": "586ba867-176b-428b-9faa-33cddb0aa0a0"
      },
      "execution_count": null,
      "outputs": [
        {
          "output_type": "stream",
          "name": "stdout",
          "text": [
            "+-----+----+----+------+\n",
            "|index|user|item|rating|\n",
            "+-----+----+----+------+\n",
            "|    0|  73|  52|   4.0|\n",
            "|    1|  36| 239|   3.0|\n",
            "|    2|  72|  26|   1.0|\n",
            "|    3|  59| 430|   2.5|\n",
            "|    4|  72| 284|   3.0|\n",
            "|    5|  36| 277|   3.0|\n",
            "|    6|  72| 426|   4.0|\n",
            "|    7|  18| 163|   3.0|\n",
            "|    8|  67|  93|   4.0|\n",
            "|    9|  59|  22|   3.5|\n",
            "|   10|   8| 174|   2.0|\n",
            "|   11|   5| 149|   2.0|\n",
            "|   12|  26| 322|   3.5|\n",
            "|   13|   8| 416|   4.0|\n",
            "|   14|  31|  25|   2.0|\n",
            "|   15|  41|  83|   2.0|\n",
            "|   16|  25| 321|   3.0|\n",
            "|   17|  47| 193|   3.0|\n",
            "|   18|   9| 455|   4.0|\n",
            "|   19|  43| 216|   3.5|\n",
            "+-----+----+----+------+\n",
            "only showing top 20 rows\n",
            "\n"
          ]
        }
      ]
    },
    {
      "cell_type": "code",
      "source": [
        "### Tập training và test theo tỉ lệ 7:3\n",
        "training.show()\n",
        "test.show()"
      ],
      "metadata": {
        "colab": {
          "base_uri": "https://localhost:8080/"
        },
        "id": "5Ty1hQOUl7qJ",
        "outputId": "2ff98f7d-1836-4270-df9d-32b90f0112fe"
      },
      "execution_count": null,
      "outputs": [
        {
          "output_type": "stream",
          "name": "stdout",
          "text": [
            "+-----+----+----+------+\n",
            "|index|user|item|rating|\n",
            "+-----+----+----+------+\n",
            "|    0|  73|  52|   4.0|\n",
            "|    1|  36| 239|   3.0|\n",
            "|    3|  59| 430|   2.5|\n",
            "|    4|  72| 284|   3.0|\n",
            "|    5|  36| 277|   3.0|\n",
            "|    7|  18| 163|   3.0|\n",
            "|    8|  67|  93|   4.0|\n",
            "|   10|   8| 174|   2.0|\n",
            "|   11|   5| 149|   2.0|\n",
            "|   14|  31|  25|   2.0|\n",
            "|   15|  41|  83|   2.0|\n",
            "|   16|  25| 321|   3.0|\n",
            "|   17|  47| 193|   3.0|\n",
            "|   19|  43| 216|   3.5|\n",
            "|   20|   5| 170|   3.0|\n",
            "|   21|  20| 176|   5.0|\n",
            "|   22|  12| 368|   2.0|\n",
            "|   24|  12| 428|   4.5|\n",
            "|   25|  72|  49|   3.0|\n",
            "|   26|  23| 465|   5.0|\n",
            "+-----+----+----+------+\n",
            "only showing top 20 rows\n",
            "\n",
            "+-----+----+----+------+\n",
            "|index|user|item|rating|\n",
            "+-----+----+----+------+\n",
            "|    2|  72|  26|   1.0|\n",
            "|    6|  72| 426|   4.0|\n",
            "|    9|  59|  22|   3.5|\n",
            "|   12|  26| 322|   3.5|\n",
            "|   13|   8| 416|   4.0|\n",
            "|   18|   9| 455|   4.0|\n",
            "|   23|  13| 128|   5.0|\n",
            "|   29|  59| 176|   4.0|\n",
            "|   30|  72| 184|   4.0|\n",
            "|   33|  64| 144|   5.0|\n",
            "|   34|  25|  81|   4.0|\n",
            "|   35|  25| 277|   3.0|\n",
            "|   38|  22| 216|   4.0|\n",
            "|   40|  64| 262|   4.0|\n",
            "|   46|   5| 194|   5.0|\n",
            "|   47|  12|  28|   4.0|\n",
            "|   55|  31| 216|   2.5|\n",
            "|   58|  66|   0|   3.0|\n",
            "|   60|  36| 272|   4.0|\n",
            "|   61|  10| 262|   4.0|\n",
            "+-----+----+----+------+\n",
            "only showing top 20 rows\n",
            "\n"
          ]
        }
      ]
    },
    {
      "cell_type": "markdown",
      "source": [
        "### ALS"
      ],
      "metadata": {
        "id": "Dyb-9qsVmMnv"
      }
    },
    {
      "cell_type": "code",
      "source": [
        "als = ALS(maxIter=10, regParam=0.1, userCol=\"user\", itemCol=\"item\", ratingCol=\"rating\",\n",
        "                  coldStartStrategy=\"drop\", rank=10, numUserBlocks=10, numItemBlocks=10, implicitPrefs=False,\n",
        "                  alpha=1.0, seed=None, checkpointInterval=10,\n",
        "                  intermediateStorageLevel=\"MEMORY_AND_DISK\", finalStorageLevel=\"MEMORY_AND_DISK\",\n",
        "                  nonnegative=False)\n",
        "model = als.fit(training)\n",
        "  # Generate predictions\n",
        "predictions = model.transform(test)\n",
        "\n",
        "# Evaluate the model\n",
        "evaluator = RegressionEvaluator(metricName=\"mse\", labelCol=\"rating\", predictionCol=\"prediction\")\n",
        "mse = evaluator.evaluate(predictions)"
      ],
      "metadata": {
        "id": "1WGnjWrUmSPJ"
      },
      "execution_count": null,
      "outputs": []
    },
    {
      "cell_type": "code",
      "source": [
        "## MSE value\n",
        "mse"
      ],
      "metadata": {
        "colab": {
          "base_uri": "https://localhost:8080/"
        },
        "id": "Mk9A6zPXmivA",
        "outputId": "71e2a3c8-25d1-4ba8-90ae-e29b0f08f885"
      },
      "execution_count": null,
      "outputs": [
        {
          "output_type": "execute_result",
          "data": {
            "text/plain": [
              "1.1658481244588705"
            ]
          },
          "metadata": {},
          "execution_count": 97
        }
      ]
    },
    {
      "cell_type": "code",
      "source": [
        "## Chạy ALS cho numUserBlocks trong đoạn [10,20]\n",
        "mse_values = []\n",
        "for i in range(10,21):\n",
        "  als = ALS(maxIter=10, regParam=0.1, userCol=\"user\", itemCol=\"item\", ratingCol=\"rating\",\n",
        "                  coldStartStrategy=\"drop\", rank=10, numUserBlocks=i, numItemBlocks=10, implicitPrefs=False,\n",
        "                  alpha=1.0, seed=None, checkpointInterval=10,\n",
        "                  intermediateStorageLevel=\"MEMORY_AND_DISK\", finalStorageLevel=\"MEMORY_AND_DISK\",\n",
        "                  nonnegative=False)\n",
        "  model = als.fit(training)\n",
        "    # Generate predictions\n",
        "  predictions = model.transform(test)\n",
        "\n",
        "  # Evaluate the model\n",
        "  evaluator = RegressionEvaluator(metricName=\"mse\", labelCol=\"rating\", predictionCol=\"prediction\")\n",
        "  mse = evaluator.evaluate(predictions)\n",
        "  mse_values.append(mse)"
      ],
      "metadata": {
        "id": "bXowYxXzmnJC"
      },
      "execution_count": null,
      "outputs": []
    },
    {
      "cell_type": "code",
      "source": [
        "## Các giá trị MSE trong đoạn [10,20]\n",
        "mse_values"
      ],
      "metadata": {
        "colab": {
          "base_uri": "https://localhost:8080/"
        },
        "id": "v5oGmUwonj3k",
        "outputId": "1991e3cf-bfd9-47c3-d30e-5fb7f739d9fb"
      },
      "execution_count": null,
      "outputs": [
        {
          "output_type": "execute_result",
          "data": {
            "text/plain": [
              "[1.1658481244588705,\n",
              " 1.2207248844399676,\n",
              " 1.2017101036073736,\n",
              " 1.2409144254533861,\n",
              " 1.2140621323713583,\n",
              " 1.2299888246969504,\n",
              " 1.2434299254110788,\n",
              " 1.23049505085561,\n",
              " 1.2035639337585773,\n",
              " 1.259769096150575,\n",
              " 1.2145379566575745]"
            ]
          },
          "metadata": {},
          "execution_count": 102
        }
      ]
    },
    {
      "cell_type": "markdown",
      "source": [
        "# Req 2: Dự đoán giá chứng khoán."
      ],
      "metadata": {
        "id": "-DnM2pps2pYc"
      }
    },
    {
      "cell_type": "code",
      "source": [
        "class PredictHVN:\n",
        "    def __init__(self, path):\n",
        "        self.spark = SparkSession.builder.appName(\"PredictHVN\").getOrCreate()\n",
        "        self.data = self.spark.read.option(\"header\", \"true\").csv(path)\n",
        "        self.data = self.data.withColumn(\"Ngay\", to_date(\"Ngay\", \"dd/MM/yyyy\"))\n",
        "\n",
        "    ## Create Fluctuation\n",
        "    def create_fluctuation(self):\n",
        "        self.data = self.data.orderBy(col(\"Ngay\"))\n",
        "        window_spec = Window.orderBy(col(\"Ngay\"))\n",
        "        self.data = self.data.withColumn(\"Fluctuation\", (col(\"HVN\") - lag(\"HVN\", 1).over(window_spec)) / lag(\"HVN\", 1).over(window_spec))\n",
        "        self.data = self.data.withColumn(\"Fluctuation\", when(col(\"Fluctuation\").isNull(), 0).otherwise(col(\"Fluctuation\")))\n",
        "\n",
        "    ## Create Fluctuation Vector\n",
        "    def create_fluctuation_DF(self):\n",
        "        vector_window_spec = Window.orderBy(col(\"Ngay\")).rowsBetween(-4, 0)\n",
        "        self.data = self.data.withColumn(\"VectorFluctuation\", collect_list(\"Fluctuation\").over(vector_window_spec))\n",
        "\n",
        "    ## Split data into training and test datasets\n",
        "    def split_data(self):\n",
        "        train_data = self.data.filter((col(\"Ngay\") >= '2022-01-01') & (col(\"Ngay\") < '2022-07-01'))\n",
        "        test_data = self.data.filter((col(\"Ngay\") >= '2022-07-01'))\n",
        "        return train_data, test_data\n",
        "\n",
        "    def plot_mse_chart(self, train_mse, test_mse):\n",
        "        labels = ['Training', 'Test']\n",
        "        mse_values = [train_mse, test_mse]\n",
        "\n",
        "        x = np.arange(len(labels))\n",
        "        width = 0.35\n",
        "\n",
        "        fig, ax = plt.subplots()\n",
        "        rects = ax.bar(x, mse_values, width, label='MSE')\n",
        "\n",
        "        ax.set_ylabel('MSE')\n",
        "        ax.set_title('MSE on Training and Test Dataset')\n",
        "        ax.set_xticks(x)\n",
        "        ax.set_xticklabels(labels)\n",
        "        ax.legend()\n",
        "\n",
        "        def autolabel(rects):\n",
        "            for rect in rects:\n",
        "                height = rect.get_height()\n",
        "                ax.annotate('{}'.format(round(height, 2)),\n",
        "                            xy=(rect.get_x() + rect.get_width() / 2, height),\n",
        "                            xytext=(0, 3),\n",
        "                            textcoords=\"offset points\",\n",
        "                            ha='center', va='bottom')\n",
        "        autolabel(rects)\n",
        "\n",
        "        fig.tight_layout()\n",
        "        plt.show()\n",
        "\n",
        "    def predict(self):\n",
        "        # Filter out rows where the size of VectorFluctuation is not equal to 5\n",
        "        self.data = self.data.filter(size(col(\"VectorFluctuation\")) == 5)\n",
        "\n",
        "        # Define a UDF to convert array<double> to Vector\n",
        "        array_to_vector_udf = udf(lambda arr: Vectors.dense(arr), VectorUDT())\n",
        "\n",
        "        # Apply UDF to convert array column to Vector\n",
        "        self.data = self.data.withColumn(\"Features\", array_to_vector_udf(col(\"VectorFluctuation\")))\n",
        "\n",
        "        # Split data into training and testing sets\n",
        "        train_data, test_data = self.split_data()\n",
        "\n",
        "        # Define the Linear Regression model\n",
        "        # Create and train the Linear Regression model\n",
        "        lr = LinearRegression(featuresCol=\"Features\", labelCol=\"Fluctuation\")\n",
        "        lr_model = lr.fit(train_data)\n",
        "\n",
        "        # Evaluate the model on the training set\n",
        "        train_summary = lr_model.summary\n",
        "        train_mse = train_summary.meanSquaredError\n",
        "\n",
        "        # Evaluate the model on the test set\n",
        "        test_summary = lr_model.evaluate(test_data)\n",
        "        test_mse = test_summary.meanSquaredError\n",
        "\n",
        "        # Plot the MSE chart\n",
        "        self.plot_mse_chart(train_mse, test_mse)\n",
        "\n",
        "        # Show the predictions\n",
        "        predictions = lr_model.transform(test_data)\n",
        "        predictions.show()\n",
        "\n",
        "    def run(self):\n",
        "        self.create_fluctuation()\n",
        "        self.create_fluctuation_DF()\n",
        "        self.predict()"
      ],
      "metadata": {
        "id": "wQFRljBh-Oev"
      },
      "execution_count": null,
      "outputs": []
    },
    {
      "cell_type": "code",
      "source": [
        "path = \"/content/stockHVN2022.csv\"\n",
        "PredictHVN(path).run()"
      ],
      "metadata": {
        "colab": {
          "base_uri": "https://localhost:8080/",
          "height": 959
        },
        "id": "69X-21T8_2yc",
        "outputId": "ff15c7f4-f79c-4df8-f7d0-8f109ff886e8"
      },
      "execution_count": null,
      "outputs": [
        {
          "output_type": "display_data",
          "data": {
            "text/plain": [
              "<Figure size 640x480 with 1 Axes>"
            ],
            "image/png": "[encoded data removed]"
          },
          "metadata": {}
        },
        {
          "output_type": "stream",
          "name": "stdout",
          "text": [
            "+----------+-----+--------------------+--------------------+--------------------+--------------------+\n",
            "|      Ngay|  HVN|         Fluctuation|   VectorFluctuation|            Features|          prediction|\n",
            "+----------+-----+--------------------+--------------------+--------------------+--------------------+\n",
            "|2022-07-01|15.60|0.006451612903225784|[0.06885245901639...|[0.06885245901639...|0.006451612903225785|\n",
            "|2022-07-04|15.75|0.009615384615384638|[0.01226993865030...|[0.01226993865030...|0.009615384615384638|\n",
            "|2022-07-05|15.45|-0.01904761904761...|[-0.0272727272727...|[-0.0272727272727...|-0.01904761904761909|\n",
            "|2022-07-06|15.60|0.009708737864077693|[-0.0342679127725...|[-0.0342679127725...| 0.00970873786407769|\n",
            "|2022-07-07|15.65|0.003205128205128...|[0.00645161290322...|[0.00645161290322...|0.003205128205128251|\n",
            "|2022-07-08|16.35|  0.0447284345047924|[0.00961538461538...|[0.00961538461538...| 0.04472843450479239|\n",
            "|2022-07-11|16.30|-0.00305810397553...|[-0.0190476190476...|[-0.0190476190476...|-0.00305810397553...|\n",
            "|2022-07-12|16.35|0.003067484662576...|[0.00970873786407...|[0.00970873786407...|0.003067484662576729|\n",
            "|2022-07-13|16.45|0.006116207951070...|[0.00320512820512...|[0.00320512820512...|0.006116207951070...|\n",
            "|2022-07-14|16.45|                 0.0|[0.04472843450479...|[0.04472843450479...|9.96892640953673E-19|\n",
            "|2022-07-15|16.40|-0.00303951367781...|[-0.0030581039755...|[-0.0030581039755...|-0.00303951367781...|\n",
            "|2022-07-18|16.40|                 0.0|[0.00306748466257...|[0.00306748466257...|6.287121014173635...|\n",
            "|2022-07-19|16.40|                 0.0|[0.00611620795107...|[0.00611620795107...|2.316183585861873...|\n",
            "|2022-07-20|16.60|0.012195121951219686|[0.0, -0.00303951...|[0.0,-0.003039513...|0.012195121951219684|\n",
            "|2022-07-21|16.45|-0.00903614457831...|[-0.0030395136778...|[-0.0030395136778...|-0.00903614457831338|\n",
            "|2022-07-22|16.60| 0.00911854103343478|[0.0, 0.0, 0.0121...|[0.0,0.0,0.012195...|0.009118541033434778|\n",
            "|2022-07-25|16.35|-0.01506024096385542|[0.0, 0.012195121...|[0.0,0.0121951219...|-0.01506024096385...|\n",
            "|2022-07-26|16.20|-0.00917431192660...|[0.01219512195121...|[0.01219512195121...|-0.00917431192660...|\n",
            "|2022-07-27|15.95| -0.0154320987654321|[-0.0090361445783...|[-0.0090361445783...|-0.01543209876543...|\n",
            "|2022-07-28|16.10|0.009404388714733676|[0.00911854103343...|[0.00911854103343...|0.009404388714733675|\n",
            "+----------+-----+--------------------+--------------------+--------------------+--------------------+\n",
            "only showing top 20 rows\n",
            "\n"
          ]
        }
      ]
    }
  ]
}